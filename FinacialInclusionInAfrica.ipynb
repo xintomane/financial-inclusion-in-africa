{
 "cells": [
  {
   "cell_type": "code",
   "execution_count": 5,
   "id": "surprised-skating",
   "metadata": {},
   "outputs": [],
   "source": [
    "import pandas as pd \n",
    "import numpy as np \n",
    "import seaborn as sns\n",
    "import matplotlib.pyplot as plt \n",
    "\n",
    "from sklearn.model_selection import train_test_split\n",
    "from sklearn.preprocessing import StandardScaler\n",
    "from sklearn.ensemble import RandomForestClassifier\n",
    "from sklearn.metrics import accuracy_score, f1_score\n",
    "from sklearn.metrics import confusion_matrix\n",
    "\n",
    "from imblearn.over_sampling import SMOTE\n",
    "from imblearn.under_sampling import RandomUnderSampler\n",
    "from imblearn.pipeline import Pipeline\n",
    "\n",
    "from collections import Counter\n",
    "from sklearn.decomposition import PCA\n",
    "from sklearn.tree import DecisionTreeClassifier\n",
    "from sklearn import svm\n",
    "from sklearn.naive_bayes import GaussianNB\n",
    "from sklearn.metrics import classification_report\n",
    "from sklearn.model_selection import GridSearchCV\n",
    "from sklearn.metrics import confusion_matrix\n",
    "from sklearn.neighbors import KNeighborsClassifier\n",
    "\n",
    "sns.set()\n",
    "\n",
    "%matplotlib inline"
   ]
  },
  {
   "cell_type": "code",
   "execution_count": 12,
   "id": "given-aluminum",
   "metadata": {},
   "outputs": [],
   "source": [
    "data = pd.read_csv('data/train.csv')\n",
    "definitions = pd.read_csv('data/VariableDefinitions.csv')"
   ]
  },
  {
   "cell_type": "markdown",
   "id": "center-partner",
   "metadata": {},
   "source": [
    "## Data Preprocessing"
   ]
  },
  {
   "cell_type": "code",
   "execution_count": 13,
   "id": "accepting-sampling",
   "metadata": {},
   "outputs": [],
   "source": [
    "data.drop(\"uniqueid\", axis=1, inplace=True)"
   ]
  },
  {
   "cell_type": "code",
   "execution_count": 14,
   "id": "logical-notion",
   "metadata": {},
   "outputs": [
    {
     "data": {
      "text/html": [
       "<div>\n",
       "<style scoped>\n",
       "    .dataframe tbody tr th:only-of-type {\n",
       "        vertical-align: middle;\n",
       "    }\n",
       "\n",
       "    .dataframe tbody tr th {\n",
       "        vertical-align: top;\n",
       "    }\n",
       "\n",
       "    .dataframe thead th {\n",
       "        text-align: right;\n",
       "    }\n",
       "</style>\n",
       "<table border=\"1\" class=\"dataframe\">\n",
       "  <thead>\n",
       "    <tr style=\"text-align: right;\">\n",
       "      <th></th>\n",
       "      <th>country</th>\n",
       "      <th>year</th>\n",
       "      <th>bank_account</th>\n",
       "      <th>location_type</th>\n",
       "      <th>cellphone_access</th>\n",
       "      <th>household_size</th>\n",
       "      <th>age_of_respondent</th>\n",
       "      <th>gender_of_respondent</th>\n",
       "      <th>relationship_with_head</th>\n",
       "      <th>marital_status</th>\n",
       "      <th>education_level</th>\n",
       "      <th>job_type</th>\n",
       "    </tr>\n",
       "  </thead>\n",
       "  <tbody>\n",
       "    <tr>\n",
       "      <th>0</th>\n",
       "      <td>Kenya</td>\n",
       "      <td>2018</td>\n",
       "      <td>1</td>\n",
       "      <td>Rural</td>\n",
       "      <td>Yes</td>\n",
       "      <td>3</td>\n",
       "      <td>24</td>\n",
       "      <td>Female</td>\n",
       "      <td>Spouse</td>\n",
       "      <td>Married/Living together</td>\n",
       "      <td>Secondary education</td>\n",
       "      <td>Self employed</td>\n",
       "    </tr>\n",
       "    <tr>\n",
       "      <th>1</th>\n",
       "      <td>Kenya</td>\n",
       "      <td>2018</td>\n",
       "      <td>0</td>\n",
       "      <td>Rural</td>\n",
       "      <td>No</td>\n",
       "      <td>5</td>\n",
       "      <td>70</td>\n",
       "      <td>Female</td>\n",
       "      <td>Head of Household</td>\n",
       "      <td>Widowed</td>\n",
       "      <td>No formal education</td>\n",
       "      <td>Government Dependent</td>\n",
       "    </tr>\n",
       "    <tr>\n",
       "      <th>2</th>\n",
       "      <td>Kenya</td>\n",
       "      <td>2018</td>\n",
       "      <td>1</td>\n",
       "      <td>Urban</td>\n",
       "      <td>Yes</td>\n",
       "      <td>5</td>\n",
       "      <td>26</td>\n",
       "      <td>Male</td>\n",
       "      <td>Other relative</td>\n",
       "      <td>Single/Never Married</td>\n",
       "      <td>Vocational/Specialised training</td>\n",
       "      <td>Self employed</td>\n",
       "    </tr>\n",
       "    <tr>\n",
       "      <th>3</th>\n",
       "      <td>Kenya</td>\n",
       "      <td>2018</td>\n",
       "      <td>0</td>\n",
       "      <td>Rural</td>\n",
       "      <td>Yes</td>\n",
       "      <td>5</td>\n",
       "      <td>34</td>\n",
       "      <td>Female</td>\n",
       "      <td>Head of Household</td>\n",
       "      <td>Married/Living together</td>\n",
       "      <td>Primary education</td>\n",
       "      <td>Formally employed Private</td>\n",
       "    </tr>\n",
       "    <tr>\n",
       "      <th>4</th>\n",
       "      <td>Kenya</td>\n",
       "      <td>2018</td>\n",
       "      <td>0</td>\n",
       "      <td>Urban</td>\n",
       "      <td>No</td>\n",
       "      <td>8</td>\n",
       "      <td>26</td>\n",
       "      <td>Male</td>\n",
       "      <td>Child</td>\n",
       "      <td>Single/Never Married</td>\n",
       "      <td>Primary education</td>\n",
       "      <td>Informally employed</td>\n",
       "    </tr>\n",
       "  </tbody>\n",
       "</table>\n",
       "</div>"
      ],
      "text/plain": [
       "  country  year  bank_account location_type cellphone_access  household_size  \\\n",
       "0   Kenya  2018             1         Rural              Yes               3   \n",
       "1   Kenya  2018             0         Rural               No               5   \n",
       "2   Kenya  2018             1         Urban              Yes               5   \n",
       "3   Kenya  2018             0         Rural              Yes               5   \n",
       "4   Kenya  2018             0         Urban               No               8   \n",
       "\n",
       "   age_of_respondent gender_of_respondent relationship_with_head  \\\n",
       "0                 24               Female                 Spouse   \n",
       "1                 70               Female      Head of Household   \n",
       "2                 26                 Male         Other relative   \n",
       "3                 34               Female      Head of Household   \n",
       "4                 26                 Male                  Child   \n",
       "\n",
       "            marital_status                  education_level  \\\n",
       "0  Married/Living together              Secondary education   \n",
       "1                  Widowed              No formal education   \n",
       "2     Single/Never Married  Vocational/Specialised training   \n",
       "3  Married/Living together                Primary education   \n",
       "4     Single/Never Married                Primary education   \n",
       "\n",
       "                    job_type  \n",
       "0              Self employed  \n",
       "1       Government Dependent  \n",
       "2              Self employed  \n",
       "3  Formally employed Private  \n",
       "4        Informally employed  "
      ]
     },
     "execution_count": 14,
     "metadata": {},
     "output_type": "execute_result"
    }
   ],
   "source": [
    "data['bank_account'] = data['bank_account'].apply(lambda x: 0 if x == 'No' else 1)\n",
    "data.head()"
   ]
  },
  {
   "cell_type": "code",
   "execution_count": 15,
   "id": "systematic-summer",
   "metadata": {},
   "outputs": [
    {
     "data": {
      "text/html": [
       "<div>\n",
       "<style scoped>\n",
       "    .dataframe tbody tr th:only-of-type {\n",
       "        vertical-align: middle;\n",
       "    }\n",
       "\n",
       "    .dataframe tbody tr th {\n",
       "        vertical-align: top;\n",
       "    }\n",
       "\n",
       "    .dataframe thead th {\n",
       "        text-align: right;\n",
       "    }\n",
       "</style>\n",
       "<table border=\"1\" class=\"dataframe\">\n",
       "  <thead>\n",
       "    <tr style=\"text-align: right;\">\n",
       "      <th></th>\n",
       "      <th>year</th>\n",
       "      <th>bank_account</th>\n",
       "      <th>household_size</th>\n",
       "      <th>age_of_respondent</th>\n",
       "      <th>country_Rwanda</th>\n",
       "      <th>country_Tanzania</th>\n",
       "      <th>country_Uganda</th>\n",
       "      <th>location_type_Urban</th>\n",
       "      <th>cellphone_access_Yes</th>\n",
       "      <th>gender_of_respondent_Male</th>\n",
       "      <th>...</th>\n",
       "      <th>education_level_Vocational/Specialised training</th>\n",
       "      <th>job_type_Farming and Fishing</th>\n",
       "      <th>job_type_Formally employed Government</th>\n",
       "      <th>job_type_Formally employed Private</th>\n",
       "      <th>job_type_Government Dependent</th>\n",
       "      <th>job_type_Informally employed</th>\n",
       "      <th>job_type_No Income</th>\n",
       "      <th>job_type_Other Income</th>\n",
       "      <th>job_type_Remittance Dependent</th>\n",
       "      <th>job_type_Self employed</th>\n",
       "    </tr>\n",
       "  </thead>\n",
       "  <tbody>\n",
       "    <tr>\n",
       "      <th>0</th>\n",
       "      <td>2018</td>\n",
       "      <td>1</td>\n",
       "      <td>3</td>\n",
       "      <td>24</td>\n",
       "      <td>0</td>\n",
       "      <td>0</td>\n",
       "      <td>0</td>\n",
       "      <td>0</td>\n",
       "      <td>1</td>\n",
       "      <td>0</td>\n",
       "      <td>...</td>\n",
       "      <td>0</td>\n",
       "      <td>0</td>\n",
       "      <td>0</td>\n",
       "      <td>0</td>\n",
       "      <td>0</td>\n",
       "      <td>0</td>\n",
       "      <td>0</td>\n",
       "      <td>0</td>\n",
       "      <td>0</td>\n",
       "      <td>1</td>\n",
       "    </tr>\n",
       "    <tr>\n",
       "      <th>1</th>\n",
       "      <td>2018</td>\n",
       "      <td>0</td>\n",
       "      <td>5</td>\n",
       "      <td>70</td>\n",
       "      <td>0</td>\n",
       "      <td>0</td>\n",
       "      <td>0</td>\n",
       "      <td>0</td>\n",
       "      <td>0</td>\n",
       "      <td>0</td>\n",
       "      <td>...</td>\n",
       "      <td>0</td>\n",
       "      <td>0</td>\n",
       "      <td>0</td>\n",
       "      <td>0</td>\n",
       "      <td>1</td>\n",
       "      <td>0</td>\n",
       "      <td>0</td>\n",
       "      <td>0</td>\n",
       "      <td>0</td>\n",
       "      <td>0</td>\n",
       "    </tr>\n",
       "    <tr>\n",
       "      <th>2</th>\n",
       "      <td>2018</td>\n",
       "      <td>1</td>\n",
       "      <td>5</td>\n",
       "      <td>26</td>\n",
       "      <td>0</td>\n",
       "      <td>0</td>\n",
       "      <td>0</td>\n",
       "      <td>1</td>\n",
       "      <td>1</td>\n",
       "      <td>1</td>\n",
       "      <td>...</td>\n",
       "      <td>1</td>\n",
       "      <td>0</td>\n",
       "      <td>0</td>\n",
       "      <td>0</td>\n",
       "      <td>0</td>\n",
       "      <td>0</td>\n",
       "      <td>0</td>\n",
       "      <td>0</td>\n",
       "      <td>0</td>\n",
       "      <td>1</td>\n",
       "    </tr>\n",
       "    <tr>\n",
       "      <th>3</th>\n",
       "      <td>2018</td>\n",
       "      <td>0</td>\n",
       "      <td>5</td>\n",
       "      <td>34</td>\n",
       "      <td>0</td>\n",
       "      <td>0</td>\n",
       "      <td>0</td>\n",
       "      <td>0</td>\n",
       "      <td>1</td>\n",
       "      <td>0</td>\n",
       "      <td>...</td>\n",
       "      <td>0</td>\n",
       "      <td>0</td>\n",
       "      <td>0</td>\n",
       "      <td>1</td>\n",
       "      <td>0</td>\n",
       "      <td>0</td>\n",
       "      <td>0</td>\n",
       "      <td>0</td>\n",
       "      <td>0</td>\n",
       "      <td>0</td>\n",
       "    </tr>\n",
       "    <tr>\n",
       "      <th>4</th>\n",
       "      <td>2018</td>\n",
       "      <td>0</td>\n",
       "      <td>8</td>\n",
       "      <td>26</td>\n",
       "      <td>0</td>\n",
       "      <td>0</td>\n",
       "      <td>0</td>\n",
       "      <td>1</td>\n",
       "      <td>0</td>\n",
       "      <td>1</td>\n",
       "      <td>...</td>\n",
       "      <td>0</td>\n",
       "      <td>0</td>\n",
       "      <td>0</td>\n",
       "      <td>0</td>\n",
       "      <td>0</td>\n",
       "      <td>1</td>\n",
       "      <td>0</td>\n",
       "      <td>0</td>\n",
       "      <td>0</td>\n",
       "      <td>0</td>\n",
       "    </tr>\n",
       "  </tbody>\n",
       "</table>\n",
       "<p>5 rows × 33 columns</p>\n",
       "</div>"
      ],
      "text/plain": [
       "   year  bank_account  household_size  age_of_respondent  country_Rwanda  \\\n",
       "0  2018             1               3                 24               0   \n",
       "1  2018             0               5                 70               0   \n",
       "2  2018             1               5                 26               0   \n",
       "3  2018             0               5                 34               0   \n",
       "4  2018             0               8                 26               0   \n",
       "\n",
       "   country_Tanzania  country_Uganda  location_type_Urban  \\\n",
       "0                 0               0                    0   \n",
       "1                 0               0                    0   \n",
       "2                 0               0                    1   \n",
       "3                 0               0                    0   \n",
       "4                 0               0                    1   \n",
       "\n",
       "   cellphone_access_Yes  gender_of_respondent_Male  ...  \\\n",
       "0                     1                          0  ...   \n",
       "1                     0                          0  ...   \n",
       "2                     1                          1  ...   \n",
       "3                     1                          0  ...   \n",
       "4                     0                          1  ...   \n",
       "\n",
       "   education_level_Vocational/Specialised training  \\\n",
       "0                                                0   \n",
       "1                                                0   \n",
       "2                                                1   \n",
       "3                                                0   \n",
       "4                                                0   \n",
       "\n",
       "   job_type_Farming and Fishing  job_type_Formally employed Government  \\\n",
       "0                             0                                      0   \n",
       "1                             0                                      0   \n",
       "2                             0                                      0   \n",
       "3                             0                                      0   \n",
       "4                             0                                      0   \n",
       "\n",
       "   job_type_Formally employed Private  job_type_Government Dependent  \\\n",
       "0                                   0                              0   \n",
       "1                                   0                              1   \n",
       "2                                   0                              0   \n",
       "3                                   1                              0   \n",
       "4                                   0                              0   \n",
       "\n",
       "   job_type_Informally employed  job_type_No Income  job_type_Other Income  \\\n",
       "0                             0                   0                      0   \n",
       "1                             0                   0                      0   \n",
       "2                             0                   0                      0   \n",
       "3                             0                   0                      0   \n",
       "4                             1                   0                      0   \n",
       "\n",
       "   job_type_Remittance Dependent  job_type_Self employed  \n",
       "0                              0                       1  \n",
       "1                              0                       0  \n",
       "2                              0                       1  \n",
       "3                              0                       0  \n",
       "4                              0                       0  \n",
       "\n",
       "[5 rows x 33 columns]"
      ]
     },
     "execution_count": 15,
     "metadata": {},
     "output_type": "execute_result"
    }
   ],
   "source": [
    "X = pd.get_dummies(data, drop_first=True)\n",
    "X.head()"
   ]
  },
  {
   "cell_type": "code",
   "execution_count": 16,
   "id": "third-spider",
   "metadata": {},
   "outputs": [],
   "source": [
    "# for the training data\n",
    "y = X.bank_account.values\n",
    "X.drop('bank_account', axis=1, inplace=True)"
   ]
  },
  {
   "cell_type": "code",
   "execution_count": 17,
   "id": "thousand-disco",
   "metadata": {},
   "outputs": [],
   "source": [
    "from sklearn.preprocessing import StandardScaler\n",
    "from imblearn.pipeline import Pipeline\n",
    "from sklearn.linear_model import LogisticRegression\n",
    "\n"
   ]
  },
  {
   "cell_type": "code",
   "execution_count": 87,
   "id": "loaded-spectacular",
   "metadata": {},
   "outputs": [],
   "source": [
    "over = SMOTE(sampling_strategy = 0.2)\n",
    "under = RandomUnderSampler(sampling_strategy = 0.5)"
   ]
  },
  {
   "cell_type": "code",
   "execution_count": 89,
   "id": "exact-polish",
   "metadata": {},
   "outputs": [],
   "source": [
    "# Create train and test sets\n",
    "X_train, X_remaining, y_train, y_remaining = train_test_split(X, y, test_size=0.2, random_state=42)\n",
    "\n",
    "# split the data for the validation and testing sets\n",
    "X_valid, X_test, y_valid, y_test = train_test_split(X_remaining, y_remaining, test_size=0.2, random_state=42)"
   ]
  },
  {
   "cell_type": "code",
   "execution_count": 90,
   "id": "local-sequence",
   "metadata": {},
   "outputs": [],
   "source": [
    "steps1 = [('o', over), ('u', under)]\n",
    "pipeline = Pipeline(steps=steps1)\n",
    "X_train, y_train = pipeline.fit_resample(X_train, y_train)\n"
   ]
  },
  {
   "cell_type": "markdown",
   "id": "structured-berry",
   "metadata": {},
   "source": [
    "# Machine Learning Algorithms"
   ]
  },
  {
   "cell_type": "code",
   "execution_count": 21,
   "id": "continuous-uniform",
   "metadata": {},
   "outputs": [],
   "source": [
    "pipeline_lr=Pipeline([('scalar1',StandardScaler()), \n",
    "                     ('lr_classifier',LogisticRegression(random_state=42))])\n",
    "pipeline_dt=Pipeline([('scalar2',StandardScaler()),\n",
    "                     ('dt_classifier',DecisionTreeClassifier(random_state=42))])\n",
    "#pipeline_svm = Pipeline([('scalar3', StandardScaler()),\n",
    "#                         ('pca4',PCA(n_components=2)),\n",
    " #                     ('clf', svm.SVC(cache_size=7000))])\n",
    "pipeline_knn = Pipeline([('scalar3', StandardScaler()),\n",
    "                      ('clf', KNeighborsClassifier())])"
   ]
  },
  {
   "cell_type": "code",
   "execution_count": 22,
   "id": "sexual-observation",
   "metadata": {
    "scrolled": true
   },
   "outputs": [],
   "source": [
    "pipelines = [pipeline_lr, pipeline_dt, pipeline_knn]\n",
    "pipe_dict = {0: 'Logistic Regression', 1: 'Decision Tree', 2: 'K-Nearest-Neighbors'}\n"
   ]
  },
  {
   "cell_type": "code",
   "execution_count": 23,
   "id": "controlled-james",
   "metadata": {},
   "outputs": [
    {
     "data": {
      "text/plain": [
       "dict_keys(['memory', 'steps', 'verbose', 'scalar3', 'clf', 'scalar3__copy', 'scalar3__with_mean', 'scalar3__with_std', 'clf__algorithm', 'clf__leaf_size', 'clf__metric', 'clf__metric_params', 'clf__n_jobs', 'clf__n_neighbors', 'clf__p', 'clf__weights'])"
      ]
     },
     "execution_count": 23,
     "metadata": {},
     "output_type": "execute_result"
    }
   ],
   "source": [
    "pipeline_knn.get_params().keys()"
   ]
  },
  {
   "cell_type": "code",
   "execution_count": 41,
   "id": "fatal-journalism",
   "metadata": {},
   "outputs": [],
   "source": [
    "grid_param_lr = {'lr_classifier__C':[100, 10, 1.0, 0.1, 0.01],'lr_classifier__penalty':['l2'],'lr_classifier__solver':['newton-cg', 'lbfgs', 'liblinear']}\n",
    "grid_param_dt = {'dt_classifier__criterion':['gini', 'entropy'],'dt_classifier__max_depth':range(1,25),'dt_classifier__splitter': ['best', 'random']}\n",
    "#grid_param_svm = {'clf__C': [0.1, 1, 10, 100, 1000], 'clf__gamma': [1, 0.1, 0.01, 0.001, 0.0001],'clf__kernel': ['rbf']}\n",
    "#grid_param_svm = {'clf__C': [0.1, 1, 10, 100, 1000],'clf__kernel': ['linear']}\n",
    "grid_param_knn = {'clf__leaf_size': [1,2,3,5],'clf__n_neighbors': [2,3,4,5],'clf__p':[1,2]}"
   ]
  },
  {
   "cell_type": "markdown",
   "id": "figured-affair",
   "metadata": {},
   "source": [
    "The code below shows the global accuracy and classification report of each classifier before tuning the hyerparameters."
   ]
  },
  {
   "cell_type": "code",
   "execution_count": 1,
   "id": "ethical-canadian",
   "metadata": {
    "scrolled": true
   },
   "outputs": [
    {
     "ename": "NameError",
     "evalue": "name 'pipelines' is not defined",
     "output_type": "error",
     "traceback": [
      "\u001b[1;31m---------------------------------------------------------------------------\u001b[0m",
      "\u001b[1;31mNameError\u001b[0m                                 Traceback (most recent call last)",
      "\u001b[1;32m<ipython-input-1-e41e759775db>\u001b[0m in \u001b[0;36m<module>\u001b[1;34m\u001b[0m\n\u001b[1;32m----> 1\u001b[1;33m \u001b[1;32mfor\u001b[0m \u001b[0mpipe\u001b[0m \u001b[1;32min\u001b[0m \u001b[0mpipelines\u001b[0m\u001b[1;33m:\u001b[0m\u001b[1;33m\u001b[0m\u001b[1;33m\u001b[0m\u001b[0m\n\u001b[0m\u001b[0;32m      2\u001b[0m   \u001b[0mpipe\u001b[0m\u001b[1;33m.\u001b[0m\u001b[0mfit\u001b[0m\u001b[1;33m(\u001b[0m\u001b[0mX_train\u001b[0m\u001b[1;33m,\u001b[0m \u001b[0my_train\u001b[0m\u001b[1;33m)\u001b[0m\u001b[1;33m\u001b[0m\u001b[1;33m\u001b[0m\u001b[0m\n\u001b[0;32m      3\u001b[0m \u001b[1;32mfor\u001b[0m \u001b[0mi\u001b[0m\u001b[1;33m,\u001b[0m\u001b[0mmodel\u001b[0m \u001b[1;32min\u001b[0m \u001b[0menumerate\u001b[0m\u001b[1;33m(\u001b[0m\u001b[0mpipelines\u001b[0m\u001b[1;33m)\u001b[0m\u001b[1;33m:\u001b[0m\u001b[1;33m\u001b[0m\u001b[1;33m\u001b[0m\u001b[0m\n\u001b[0;32m      4\u001b[0m     \u001b[0mprint\u001b[0m\u001b[1;33m(\u001b[0m\u001b[1;34m\"{} Test Accuracy:{}\"\u001b[0m\u001b[1;33m.\u001b[0m\u001b[0mformat\u001b[0m\u001b[1;33m(\u001b[0m\u001b[0mpipe_dict\u001b[0m\u001b[1;33m[\u001b[0m\u001b[0mi\u001b[0m\u001b[1;33m]\u001b[0m\u001b[1;33m,\u001b[0m\u001b[0mmodel\u001b[0m\u001b[1;33m.\u001b[0m\u001b[0mscore\u001b[0m\u001b[1;33m(\u001b[0m\u001b[0mX_test\u001b[0m\u001b[1;33m,\u001b[0m\u001b[0my_test\u001b[0m\u001b[1;33m)\u001b[0m\u001b[1;33m)\u001b[0m\u001b[1;33m)\u001b[0m\u001b[1;33m\u001b[0m\u001b[1;33m\u001b[0m\u001b[0m\n\u001b[0;32m      5\u001b[0m     \u001b[0mprint\u001b[0m\u001b[1;33m(\u001b[0m\u001b[0mclassification_report\u001b[0m\u001b[1;33m(\u001b[0m\u001b[0my_test\u001b[0m\u001b[1;33m,\u001b[0m \u001b[0mmodel\u001b[0m\u001b[1;33m.\u001b[0m\u001b[0mpredict\u001b[0m\u001b[1;33m(\u001b[0m\u001b[0mX_test\u001b[0m\u001b[1;33m)\u001b[0m\u001b[1;33m,\u001b[0m\u001b[0mtarget_names\u001b[0m\u001b[1;33m=\u001b[0m\u001b[1;33m[\u001b[0m\u001b[1;34m'No'\u001b[0m\u001b[1;33m,\u001b[0m \u001b[1;34m'Yes'\u001b[0m\u001b[1;33m]\u001b[0m\u001b[1;33m)\u001b[0m\u001b[1;33m)\u001b[0m\u001b[1;33m\u001b[0m\u001b[1;33m\u001b[0m\u001b[0m\n",
      "\u001b[1;31mNameError\u001b[0m: name 'pipelines' is not defined"
     ]
    }
   ],
   "source": [
    "for pipe in pipelines:\n",
    "  pipe.fit(X_train, y_train)\n",
    "for i,model in enumerate(pipelines):\n",
    "    print(\"{} Test Accuracy:{}\".format(pipe_dict[i],model.score(X_test,y_test)))\n",
    "    print(classification_report(y_test, model.predict(X_test),target_names=['No', 'Yes']))\n",
    "    #print(classification_report(y_test, y_pred))"
   ]
  },
  {
   "cell_type": "markdown",
   "id": "spectacular-exercise",
   "metadata": {},
   "source": [
    "# Tuning Hyperparameters"
   ]
  },
  {
   "cell_type": "markdown",
   "id": "automated-heading",
   "metadata": {},
   "source": [
    "## Logistic Regression\n"
   ]
  },
  {
   "cell_type": "code",
   "execution_count": 112,
   "id": "legal-example",
   "metadata": {
    "scrolled": false
   },
   "outputs": [
    {
     "name": "stdout",
     "output_type": "stream",
     "text": [
      "Accuracy: 0.8544102019128587\n",
      "              precision    recall  f1-score   support\n",
      "\n",
      "          No       0.93      0.90      0.92       818\n",
      "         Yes       0.45      0.52      0.48       123\n",
      "\n",
      "    accuracy                           0.85       941\n",
      "   macro avg       0.69      0.71      0.70       941\n",
      "weighted avg       0.86      0.85      0.86       941\n",
      "\n",
      "Tuned Model Parameters: {'lr_classifier__C': 0.01, 'lr_classifier__penalty': 'l2', 'lr_classifier__solver': 'liblinear'}\n"
     ]
    }
   ],
   "source": [
    "gridsearch_lr = GridSearchCV(pipeline_lr, grid_param_lr,cv=5)\n",
    "lr_result = gridsearch_lr.fit(X_train,y_train)\n",
    "\n",
    "#test pred\n",
    "grid_predictions_lr = gridsearch_lr.predict(X_test)\n",
    "#train pred\n",
    "trainPredicted = gridsearch_lr.predict(X_train)\n",
    "#calidation pred\n",
    "valid_pred_lr = gridsearch_lr.predict(X_valid)\n",
    "\n",
    "lr_result.score(X_test,y_test)\n",
    "print(\"Accuracy: {}\".format(gridsearch_lr.score(X_test, y_test)))\n",
    "print(classification_report(y_test, grid_predictions_lr,target_names=['No', 'Yes']))\n",
    "print(\"Tuned Model Parameters: {}\".format(gridsearch_lr.best_params_))"
   ]
  },
  {
   "cell_type": "markdown",
   "id": "reverse-promise",
   "metadata": {},
   "source": [
    "\n"
   ]
  },
  {
   "cell_type": "code",
   "execution_count": 93,
   "id": "norman-emphasis",
   "metadata": {
    "scrolled": true
   },
   "outputs": [
    {
     "data": {
      "text/plain": [
       "Text(0.5, 1.0, 'Accuracy on training set: 79.51%')"
      ]
     },
     "execution_count": 93,
     "metadata": {},
     "output_type": "execute_result"
    },
    {
     "data": {
      "image/png": "[encoded data removed]",
      "text/plain": [
       "<Figure size 432x288 with 2 Axes>"
      ]
     },
     "metadata": {
      "needs_background": "light"
     },
     "output_type": "display_data"
    }
   ],
   "source": [
    "    labels = ['No', 'Yes']\n",
    "    sns.heatmap(\n",
    "        confusion_matrix(y_train, trainPredicted),\n",
    "        annot=True,\n",
    "        fmt='d',\n",
    "        yticklabels=labels,\n",
    "        xticklabels=labels, \n",
    "    )\n",
    "    plt.ylabel('True Label')\n",
    "    plt.xlabel('Predicted Label')\n",
    "    plt.title(\"Accuracy on validation set: {:.2f}%\".format(accuracy_score(y_train, trainPredicted) * 100))"
   ]
  },
  {
   "cell_type": "code",
   "execution_count": 94,
   "id": "wanted-story",
   "metadata": {
    "scrolled": true
   },
   "outputs": [
    {
     "data": {
      "text/plain": [
       "Text(0.5, 1.0, 'Accuracy on validation set: 87.11%')"
      ]
     },
     "execution_count": 94,
     "metadata": {},
     "output_type": "execute_result"
    },
    {
     "data": {
      "image/png": "[encoded data removed]",
      "text/plain": [
       "<Figure size 432x288 with 2 Axes>"
      ]
     },
     "metadata": {
      "needs_background": "light"
     },
     "output_type": "display_data"
    }
   ],
   "source": [
    "    labels = ['No', 'Yes']\n",
    "    sns.heatmap(\n",
    "        confusion_matrix(y_valid, valid_pred),\n",
    "        annot=True,\n",
    "        fmt='d',\n",
    "        yticklabels=labels,\n",
    "        xticklabels=labels, \n",
    "    )\n",
    "    plt.ylabel('True Label')\n",
    "    plt.xlabel('Predicted Label')\n",
    "    plt.title(\"Accuracy on validation set: {:.2f}%\".format(accuracy_score(y_valid, valid_pred) * 100))"
   ]
  },
  {
   "cell_type": "code",
   "execution_count": 107,
   "id": "continued-moisture",
   "metadata": {
    "scrolled": false
   },
   "outputs": [
    {
     "data": {
      "text/plain": [
       "Text(0.5, 1.0, 'Accuracy on tesing set: 85.44%')"
      ]
     },
     "execution_count": 107,
     "metadata": {},
     "output_type": "execute_result"
    },
    {
     "data": {
      "image/png": "[encoded data removed]",
      "text/plain": [
       "<Figure size 432x288 with 2 Axes>"
      ]
     },
     "metadata": {
      "needs_background": "light"
     },
     "output_type": "display_data"
    }
   ],
   "source": [
    "    labels = ['No', 'Yes']\n",
    "    sns.heatmap(\n",
    "        confusion_matrix(y_test, grid_predictions_lr),\n",
    "        annot=True,\n",
    "        fmt='d',\n",
    "        yticklabels=labels,\n",
    "        xticklabels=labels, \n",
    "    )\n",
    "    plt.ylabel('True Label')\n",
    "    plt.xlabel('Predicted Label')\n",
    "    plt.title(\"Accuracy on tesing set: {:.2f}%\".format(accuracy_score(y_test, grid_predictions_lr) * 100))"
   ]
  },
  {
   "cell_type": "markdown",
   "id": "bottom-therapy",
   "metadata": {},
   "source": [
    "The best tuned model parameters given by GridSearchCv were C=0.01, penalty='l2' and solver='liblinear'.\n",
    "The prediction score from the classification report shows that 45% of the 'Yes' predictions were correct and 93% of the 'No' preditions were correct.\n",
    "The recall values give the fraction of positives that were correctly identified. With 52% of the 'Yes' predictions being correctly identified and 90% of the 'No' predictions being identified correctly.\n",
    "The model has a weighted F1 score of 0.86.\n",
    "The models accuracy on the testing set is 85.44%"
   ]
  },
  {
   "cell_type": "markdown",
   "id": "three-musical",
   "metadata": {},
   "source": [
    "When comparing the classification report of this classifier before and after hyerparameter tuning it is apparent that little to no change was made to the classifier."
   ]
  },
  {
   "cell_type": "markdown",
   "id": "auburn-margin",
   "metadata": {},
   "source": [
    "## Decision Tree"
   ]
  },
  {
   "cell_type": "code",
   "execution_count": 113,
   "id": "international-client",
   "metadata": {},
   "outputs": [
    {
     "name": "stdout",
     "output_type": "stream",
     "text": [
      "Accuracy: 0.824654622741764\n",
      "              precision    recall  f1-score   support\n",
      "\n",
      "          No       0.92      0.87      0.90       818\n",
      "         Yes       0.38      0.51      0.43       123\n",
      "\n",
      "    accuracy                           0.82       941\n",
      "   macro avg       0.65      0.69      0.66       941\n",
      "weighted avg       0.85      0.82      0.84       941\n",
      "\n",
      "Tuned Model Parameters: {'dt_classifier__criterion': 'entropy', 'dt_classifier__max_depth': 11, 'dt_classifier__splitter': 'random'}\n"
     ]
    }
   ],
   "source": [
    "gridsearch_dt = GridSearchCV(pipeline_dt, grid_param_dt,cv=5)\n",
    "dt_result = gridsearch_dt.fit(X_train,y_train)\n",
    "\n",
    "#test pred\n",
    "grid_predictions_dt = gridsearch_dt.predict(X_test)\n",
    "#valid pred\n",
    "valid_pred_dt = gridsearch_dt.predict(X_valid)\n",
    "#train pred\n",
    "trainPredicted_dt = gridsearch_dt.predict(X_train)\n",
    "\n",
    "dt_result.score(X_test,y_test)\n",
    "print(\"Accuracy: {}\".format(gridsearch_dt.score(X_test, y_test)))\n",
    "print(classification_report(y_test, grid_predictions_dt,target_names=['No', 'Yes']))\n",
    "print(\"Tuned Model Parameters: {}\".format(gridsearch_dt.best_params_))"
   ]
  },
  {
   "cell_type": "code",
   "execution_count": 98,
   "id": "dirty-nicholas",
   "metadata": {},
   "outputs": [
    {
     "data": {
      "text/plain": [
       "Text(0.5, 1.0, 'Accuracy on training set: 79.51%')"
      ]
     },
     "execution_count": 98,
     "metadata": {},
     "output_type": "execute_result"
    },
    {
     "data": {
      "image/png": "[encoded data removed]",
      "text/plain": [
       "<Figure size 432x288 with 2 Axes>"
      ]
     },
     "metadata": {
      "needs_background": "light"
     },
     "output_type": "display_data"
    }
   ],
   "source": [
    "    labels = ['No', 'Yes']\n",
    "    sns.heatmap(\n",
    "        confusion_matrix(y_train, trainPredicted_dt),\n",
    "        annot=True,\n",
    "        fmt='d',\n",
    "        yticklabels=labels,\n",
    "        xticklabels=labels, \n",
    "    )\n",
    "    plt.ylabel('True Label')\n",
    "    plt.xlabel('Predicted Label')\n",
    "    plt.title(\"Accuracy on training set: {:.2f}%\".format(accuracy_score(y_train, trainPredicted_dt) * 100))"
   ]
  },
  {
   "cell_type": "code",
   "execution_count": 109,
   "id": "continuous-grade",
   "metadata": {
    "scrolled": true
   },
   "outputs": [
    {
     "data": {
      "text/plain": [
       "Text(0.5, 1.0, 'Accuracy on validation set: 83.18%')"
      ]
     },
     "execution_count": 109,
     "metadata": {},
     "output_type": "execute_result"
    },
    {
     "data": {
      "image/png": "[encoded data removed]",
      "text/plain": [
       "<Figure size 432x288 with 2 Axes>"
      ]
     },
     "metadata": {
      "needs_background": "light"
     },
     "output_type": "display_data"
    }
   ],
   "source": [
    "    labels = ['No', 'Yes']\n",
    "    sns.heatmap(\n",
    "        confusion_matrix(y_train, trainPredicted_dt),\n",
    "        annot=True,\n",
    "        fmt='d',\n",
    "        yticklabels=labels,\n",
    "        xticklabels=labels, \n",
    "    )\n",
    "    plt.ylabel('True Label')\n",
    "    plt.xlabel('Predicted Label')\n",
    "    plt.title(\"Accuracy on training set: {:.2f}%\".format(accuracy_score(y_train, trainPredicted_dt) * 100))"
   ]
  },
  {
   "cell_type": "code",
   "execution_count": 108,
   "id": "acknowledged-course",
   "metadata": {},
   "outputs": [
    {
     "data": {
      "text/plain": [
       "Text(0.5, 1.0, 'Accuracy on testing set: 82.47%')"
      ]
     },
     "execution_count": 108,
     "metadata": {},
     "output_type": "execute_result"
    },
    {
     "data": {
      "image/png": "[encoded data removed]",
      "text/plain": [
       "<Figure size 432x288 with 2 Axes>"
      ]
     },
     "metadata": {
      "needs_background": "light"
     },
     "output_type": "display_data"
    }
   ],
   "source": [
    "    labels = ['No', 'Yes']\n",
    "    sns.heatmap(\n",
    "        confusion_matrix(y_test, grid_predictions_dt),\n",
    "        annot=True,\n",
    "        fmt='d',\n",
    "        yticklabels=labels,\n",
    "        xticklabels=labels, \n",
    "    )\n",
    "    plt.ylabel('True Label')\n",
    "    plt.xlabel('Predicted Label')\n",
    "    plt.title(\"Accuracy on testing set: {:.2f}%\".format(accuracy_score(y_test, grid_predictions_dt) * 100))"
   ]
  },
  {
   "cell_type": "markdown",
   "id": "european-consent",
   "metadata": {},
   "source": [
    "The best tuned model parameters given by GridSearchCv were criterion=' entropy', max_depth=11 and splitter='random'.\n",
    "The prediction score from the classification report shows that 38% of the 'Yes' predictions were correct and 92% of the 'No' preditions were correct.\n",
    "The recall values give the fraction of positives that were correctly identified. With 51% of the 'Yes' predictions being correctly identified and 87% of the 'No' predictions being identified correctly.\n",
    "The model has a weighted F1 score of 0.84.\n",
    "The models accuracy on the testing set is 82.47%"
   ]
  },
  {
   "cell_type": "markdown",
   "id": "organic-addition",
   "metadata": {},
   "source": [
    "When comparing the classification report of this classifier before and after hyerparameter tuning it is apparent that the F1 score and precision score and accuracy improved significantly. With a slight decrease in recall score."
   ]
  },
  {
   "cell_type": "markdown",
   "id": "human-louis",
   "metadata": {},
   "source": [
    "## KNN"
   ]
  },
  {
   "cell_type": "code",
   "execution_count": 114,
   "id": "australian-bachelor",
   "metadata": {},
   "outputs": [
    {
     "name": "stdout",
     "output_type": "stream",
     "text": [
      "Accuracy: 0.8384697130712009\n",
      "              precision    recall  f1-score   support\n",
      "\n",
      "          No       0.92      0.89      0.91       818\n",
      "         Yes       0.41      0.51      0.45       123\n",
      "\n",
      "    accuracy                           0.84       941\n",
      "   macro avg       0.67      0.70      0.68       941\n",
      "weighted avg       0.86      0.84      0.85       941\n",
      "\n",
      "Tuned Model Parameters: {'clf__leaf_size': 1, 'clf__n_neighbors': 5, 'clf__p': 1}\n"
     ]
    }
   ],
   "source": [
    "gridsearch_knn = GridSearchCV(pipeline_knn, grid_param_knn,cv=5)\n",
    "knn_result = gridsearch_knn.fit(X_train,y_train)\n",
    "#test pred\n",
    "grid_predictions_knn = gridsearch_knn.predict(X_test)\n",
    "#valid pred\n",
    "valid_pred_knn = gridsearch_knn.predict(X_valid)\n",
    "#train pred\n",
    "trainPredicted_knn = gridsearch_knn.predict(X_train)\n",
    "\n",
    "knn_result.score(X_test,y_test)\n",
    "print(\"Accuracy: {}\".format(gridsearch_knn.score(X_test, y_test)))\n",
    "print(classification_report(y_test, grid_predictions_knn,target_names=['No', 'Yes']))\n",
    "print(\"Tuned Model Parameters: {}\".format(gridsearch_knn.best_params_))"
   ]
  },
  {
   "cell_type": "code",
   "execution_count": 118,
   "id": "advance-therapy",
   "metadata": {},
   "outputs": [
    {
     "data": {
      "text/plain": [
       "Text(0.5, 1.0, \"Accuracy on training set: 84.77%\\nTuned Model Parameters: {'clf__leaf_size': 1, 'clf__n_neighbors': 5, 'clf__p': 1}\")"
      ]
     },
     "execution_count": 118,
     "metadata": {},
     "output_type": "execute_result"
    },
    {
     "data": {
      "image/png": "[encoded data removed]",
      "text/plain": [
       "<Figure size 432x288 with 2 Axes>"
      ]
     },
     "metadata": {
      "needs_background": "light"
     },
     "output_type": "display_data"
    }
   ],
   "source": [
    "    labels = ['No', 'Yes']\n",
    "    sns.heatmap(\n",
    "        confusion_matrix(y_train, trainPredicted_knn),\n",
    "        annot=True,\n",
    "        fmt='d',\n",
    "        yticklabels=labels,\n",
    "        xticklabels=labels, \n",
    "    )\n",
    "    plt.ylabel('True Label')\n",
    "    plt.xlabel('Predicted Label')\n",
    "    plt.title(\"Accuracy on training set: {:.2f}%\\nTuned Model Parameters: {}\".format(accuracy_score(y_train, trainPredicted_knn) * 100,gridsearch_knn.best_params_))"
   ]
  },
  {
   "cell_type": "code",
   "execution_count": 110,
   "id": "registered-aaron",
   "metadata": {},
   "outputs": [
    {
     "data": {
      "text/plain": [
       "Text(0.5, 1.0, 'Accuracy on validation set: 83.90%')"
      ]
     },
     "execution_count": 110,
     "metadata": {},
     "output_type": "execute_result"
    },
    {
     "data": {
      "image/png": "[encoded data removed]",
      "text/plain": [
       "<Figure size 432x288 with 2 Axes>"
      ]
     },
     "metadata": {
      "needs_background": "light"
     },
     "output_type": "display_data"
    }
   ],
   "source": [
    "    labels = ['No', 'Yes']\n",
    "    sns.heatmap(\n",
    "        confusion_matrix(y_valid, valid_pred_knn),\n",
    "        annot=True,\n",
    "        fmt='d',\n",
    "        yticklabels=labels,\n",
    "        xticklabels=labels, \n",
    "    )\n",
    "    plt.ylabel('True Label')\n",
    "    plt.xlabel('Predicted Label')\n",
    "    plt.title(\"Accuracy on validation set: {:.2f}%\".format(accuracy_score(y_valid, valid_pred_knn) * 100))"
   ]
  },
  {
   "cell_type": "code",
   "execution_count": 111,
   "id": "legitimate-manhattan",
   "metadata": {},
   "outputs": [
    {
     "data": {
      "text/plain": [
       "Text(0.5, 1.0, 'Accuracy on testing set: 83.85%')"
      ]
     },
     "execution_count": 111,
     "metadata": {},
     "output_type": "execute_result"
    },
    {
     "data": {
      "image/png": "[encoded data removed]",
      "text/plain": [
       "<Figure size 432x288 with 2 Axes>"
      ]
     },
     "metadata": {
      "needs_background": "light"
     },
     "output_type": "display_data"
    }
   ],
   "source": [
    "    labels = ['No', 'Yes']\n",
    "    sns.heatmap(\n",
    "        confusion_matrix(y_test, grid_predictions_knn),\n",
    "        annot=True,\n",
    "        fmt='d',\n",
    "        yticklabels=labels,\n",
    "        xticklabels=labels, \n",
    "    )\n",
    "    plt.ylabel('True Label')\n",
    "    plt.xlabel('Predicted Label')\n",
    "    plt.title(\"Accuracy on testing set: {:.2f}%\".format(accuracy_score(y_test, grid_predictions_knn) * 100))"
   ]
  },
  {
   "cell_type": "markdown",
   "id": "under-deposit",
   "metadata": {},
   "source": [
    "The best tuned model parameters given by GridSearchCv were leaf_size= 1, n_neighbors= 5 and p=1\n",
    "The prediction score from the classification report shows that 41% of the 'Yes' predictions were correct and 92% of the 'No' preditions were correct.\n",
    "The recall values for this model gave 51% of the 'Yes' predictions being correctly identified and 89% of the 'No' predictions being identified correctly.\n",
    "The model has a weighted F1 score of 0.85.\n",
    "The models accuracy on the testing set is 83.85%"
   ]
  },
  {
   "cell_type": "markdown",
   "id": "understanding-emission",
   "metadata": {},
   "source": [
    "When comparing the classification report of this classifier before and after hyerparameter tuning it is apparent that there were only slight improvements made to the weighted F1 score, 'Yes' prediction score and the global accuracy."
   ]
  },
  {
   "cell_type": "markdown",
   "id": "complex-industry",
   "metadata": {},
   "source": [
    "## Comparision"
   ]
  },
  {
   "cell_type": "markdown",
   "id": "ready-divorce",
   "metadata": {},
   "source": [
    "The F1 score gives the percentage of correct positive predictions.It's also decribed as the weighted harmonic mean of precision and recall such that the best score is 1.0 and the worst is 0.0.Thus the weighted average if the F1 score will be used to compare each model"
   ]
  },
  {
   "cell_type": "markdown",
   "id": "bronze-dividend",
   "metadata": {},
   "source": [
    "The classifier with the best weighted F1 score is the Logistic Regression classifier with hyperparameters : C=0.01, penalty='l2' and solver='liblinear'.Although, tuning the hyperparameters made little to no difference it performed slightly better than the other two classifiers."
   ]
  },
  {
   "cell_type": "code",
   "execution_count": null,
   "id": "unnecessary-breathing",
   "metadata": {},
   "outputs": [],
   "source": []
  }
 ],
 "metadata": {
  "celltoolbar": "Raw Cell Format",
  "kernelspec": {
   "display_name": "Python 3 (ipykernel)",
   "language": "python",
   "name": "python3"
  },
  "language_info": {
   "codemirror_mode": {
    "name": "ipython",
    "version": 3
   },
   "file_extension": ".py",
   "mimetype": "text/x-python",
   "name": "python",
   "nbconvert_exporter": "python",
   "pygments_lexer": "ipython3",
   "version": "3.9.7"
  }
 },
 "nbformat": 4,
 "nbformat_minor": 5
}
